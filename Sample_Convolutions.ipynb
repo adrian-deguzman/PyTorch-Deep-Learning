{
  "nbformat": 4,
  "nbformat_minor": 0,
  "metadata": {
    "colab": {
      "provenance": [],
      "include_colab_link": true
    },
    "kernelspec": {
      "name": "python3",
      "display_name": "Python 3"
    },
    "language_info": {
      "name": "python"
    }
  },
  "cells": [
    {
      "cell_type": "markdown",
      "metadata": {
        "id": "view-in-github",
        "colab_type": "text"
      },
      "source": [
        "<a href=\"https://colab.research.google.com/github/dreyan22/pytorch-deep-learning-adrian/blob/Pytorch/Sample_Convolutions.ipynb\" target=\"_parent\"><img src=\"https://colab.research.google.com/assets/colab-badge.svg\" alt=\"Open In Colab\"/></a>"
      ]
    },
    {
      "cell_type": "code",
      "execution_count": null,
      "metadata": {
        "colab": {
          "base_uri": "https://localhost:8080/"
        },
        "id": "OXYnYnbiXdf-",
        "outputId": "83c7f1c5-b1d2-4851-eb14-5a2018648555"
      },
      "outputs": [
        {
          "output_type": "stream",
          "name": "stdout",
          "text": [
            "torch.Size([2, 30, 30])\n",
            "torch.Size([100, 28, 28])\n"
          ]
        }
      ],
      "source": [
        "import torch.nn as nn\n",
        "import torch\n",
        "\n",
        "# Values in the context of PyTorch are tensors\n",
        "# Tensor --> value\n",
        "picture = torch.rand(1, 32, 32)\n",
        "\n",
        "# Module\n",
        "# --> always has a forward([batch, c1, c2])\n",
        "# --> Example: [5, 32, 32]\n",
        "operation1 = nn.Conv2d(1, 2, kernel_size=3)\n",
        "operation2 = nn.Conv2d(2, 100, kernel_size=3)\n",
        "\n",
        "result = operation1.forward(picture)\n",
        "result2 = operation2.forward(result)\n",
        "print(result.shape)\n",
        "print(result2.shape)"
      ]
    },
    {
      "cell_type": "code",
      "source": [
        "class HappyModel(nn.Module):\n",
        "  def __init__(self):\n",
        "    super().__init__()\n",
        "\n",
        "    self.operation1 = nn.Conv2d(1, 2, kernel_size=3)\n",
        "    self.operation2 = nn.Conv2d(2, 100, kernel_size=3)\n",
        "\n",
        "  def forward(self, x):\n",
        "    x = self.operation1(x)\n",
        "\n",
        "    x = self.operation2(x)\n",
        "\n",
        "    return x\n",
        "\n",
        "model = HappyModel()\n",
        "result = model.forward(picture)\n",
        "print(result.shape)"
      ],
      "metadata": {
        "colab": {
          "base_uri": "https://localhost:8080/"
        },
        "id": "o-mK2A8ocmu6",
        "outputId": "2c3f7817-1f41-463a-aaf5-c71011c9242a"
      },
      "execution_count": null,
      "outputs": [
        {
          "output_type": "stream",
          "name": "stdout",
          "text": [
            "torch.Size([100, 28, 28])\n"
          ]
        }
      ]
    }
  ]
}